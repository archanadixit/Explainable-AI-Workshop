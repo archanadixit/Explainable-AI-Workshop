{
 "cells": [
  {
   "cell_type": "markdown",
   "id": "6c1763c5-3a6a-4d30-8c2b-1f8418de3935",
   "metadata": {},
   "source": [
    "# https://tinyurl.com/xai-workshop23"
   ]
  },
  {
   "cell_type": "code",
   "execution_count": null,
   "id": "6a33fcd8-d554-4e98-a673-14f6c3b723f2",
   "metadata": {},
   "outputs": [],
   "source": []
  }
 ],
 "metadata": {
  "kernelspec": {
   "display_name": "Python 3 (ipykernel)",
   "language": "python",
   "name": "python3"
  },
  "language_info": {
   "codemirror_mode": {
    "name": "ipython",
    "version": 3
   },
   "file_extension": ".py",
   "mimetype": "text/x-python",
   "name": "python",
   "nbconvert_exporter": "python",
   "pygments_lexer": "ipython3",
   "version": "3.10.8"
  }
 },
 "nbformat": 4,
 "nbformat_minor": 5
}
